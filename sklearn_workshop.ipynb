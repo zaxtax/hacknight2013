{
 "metadata": {
  "name": "sklearn_workshop"
 },
 "nbformat": 3,
 "nbformat_minor": 0,
 "worksheets": [
  {
   "cells": [
    {
     "cell_type": "markdown",
     "metadata": {},
     "source": [
      "# Hack Night Workshop\n",
      "## May 7th 2013\n",
      "## by Rob Zinkov (rob@zinkov.com)"
     ]
    },
    {
     "cell_type": "heading",
     "level": 1,
     "metadata": {},
     "source": [
      "Brief introduction to ipython notebook"
     ]
    },
    {
     "cell_type": "markdown",
     "metadata": {},
     "source": [
      "First let's make sure we have plotting enabled"
     ]
    },
    {
     "cell_type": "code",
     "collapsed": false,
     "input": [
      "%pylab inline"
     ],
     "language": "python",
     "metadata": {},
     "outputs": [
      {
       "output_type": "stream",
       "stream": "stdout",
       "text": [
        "\n",
        "Welcome to pylab, a matplotlib-based Python environment [backend: module://IPython.kernel.zmq.pylab.backend_inline].\n",
        "For more information, type 'help(pylab)'.\n"
       ]
      }
     ],
     "prompt_number": 5
    },
    {
     "cell_type": "code",
     "collapsed": false,
     "input": [
      "import matplotlib.pylab as plt-\n",
      "import numpy as np\n",
      "\n",
      "x = np.linspace(-10,10,100)\n",
      "plt.plot(x, np.sin(0.5*x))\n",
      "plt.show()"
     ],
     "language": "python",
     "metadata": {},
     "outputs": [
      {
       "metadata": {},
       "output_type": "display_data",
       "png": "[encoded data removed]",
       "text": [
        "<matplotlib.figure.Figure at 0x2fdb090>"
       ]
      }
     ],
     "prompt_number": 4
    },
    {
     "cell_type": "markdown",
     "metadata": {},
     "source": [
      "We also have the option to run commands from here"
     ]
    },
    {
     "cell_type": "code",
     "collapsed": false,
     "input": [
      "!!ls"
     ],
     "language": "python",
     "metadata": {},
     "outputs": [
      {
       "metadata": {},
       "output_type": "pyout",
       "prompt_number": 6,
       "text": [
        "['reveal', 'sklearn_workshop.ipynb']"
       ]
      }
     ],
     "prompt_number": 6
    },
    {
     "cell_type": "markdown",
     "metadata": {},
     "source": [
      "The cell output is interactive and live"
     ]
    },
    {
     "cell_type": "code",
     "collapsed": false,
     "input": [
      "from time import sleep\n",
      "import sys\n",
      "\n",
      "for i in range(21):\n",
      "    sys.stdout.write('\\r')\n",
      "    # the exact output you're looking for:\n",
      "    sys.stdout.write(\"[%-20s] %d%%\" % ('='*i, 5*i))\n",
      "    sys.stdout.flush()\n",
      "    sleep(0.25)"
     ],
     "language": "python",
     "metadata": {},
     "outputs": [
      {
       "output_type": "stream",
       "stream": "stdout",
       "text": [
        "\r",
        "[                    ] 0%"
       ]
      },
      {
       "output_type": "stream",
       "stream": "stdout",
       "text": [
        "\r",
        "[=                   ] 5%"
       ]
      },
      {
       "output_type": "stream",
       "stream": "stdout",
       "text": [
        "\r",
        "[==                  ] 10%"
       ]
      },
      {
       "output_type": "stream",
       "stream": "stdout",
       "text": [
        "\r",
        "[===                 ] 15%"
       ]
      },
      {
       "output_type": "stream",
       "stream": "stdout",
       "text": [
        "\r",
        "[====                ] 20%"
       ]
      },
      {
       "output_type": "stream",
       "stream": "stdout",
       "text": [
        "\r",
        "[=====               ] 25%"
       ]
      },
      {
       "output_type": "stream",
       "stream": "stdout",
       "text": [
        "\r",
        "[======              ] 30%"
       ]
      },
      {
       "output_type": "stream",
       "stream": "stdout",
       "text": [
        "\r",
        "[=======             ] 35%"
       ]
      },
      {
       "output_type": "stream",
       "stream": "stdout",
       "text": [
        "\r",
        "[========            ] 40%"
       ]
      },
      {
       "output_type": "stream",
       "stream": "stdout",
       "text": [
        "\r",
        "[=========           ] 45%"
       ]
      },
      {
       "output_type": "stream",
       "stream": "stdout",
       "text": [
        "\r",
        "[==========          ] 50%"
       ]
      },
      {
       "output_type": "stream",
       "stream": "stdout",
       "text": [
        "\r",
        "[===========         ] 55%"
       ]
      },
      {
       "output_type": "stream",
       "stream": "stdout",
       "text": [
        "\r",
        "[============        ] 60%"
       ]
      },
      {
       "output_type": "stream",
       "stream": "stdout",
       "text": [
        "\r",
        "[=============       ] 65%"
       ]
      },
      {
       "output_type": "stream",
       "stream": "stdout",
       "text": [
        "\r",
        "[==============      ] 70%"
       ]
      },
      {
       "output_type": "stream",
       "stream": "stdout",
       "text": [
        "\r",
        "[===============     ] 75%"
       ]
      },
      {
       "output_type": "stream",
       "stream": "stdout",
       "text": [
        "\r",
        "[================    ] 80%"
       ]
      },
      {
       "output_type": "stream",
       "stream": "stdout",
       "text": [
        "\r",
        "[=================   ] 85%"
       ]
      },
      {
       "output_type": "stream",
       "stream": "stdout",
       "text": [
        "\r",
        "[==================  ] 90%"
       ]
      },
      {
       "output_type": "stream",
       "stream": "stdout",
       "text": [
        "\r",
        "[=================== ] 95%"
       ]
      },
      {
       "output_type": "stream",
       "stream": "stdout",
       "text": [
        "\r",
        "[====================] 100%"
       ]
      }
     ],
     "prompt_number": 5
    },
    {
     "cell_type": "markdown",
     "metadata": {},
     "source": [
      "We also have the option of calling other languages"
     ]
    },
    {
     "cell_type": "code",
     "collapsed": false,
     "input": [
      "%load_ext rmagic"
     ],
     "language": "python",
     "metadata": {},
     "outputs": [],
     "prompt_number": 2
    },
    {
     "cell_type": "code",
     "collapsed": false,
     "input": [
      "%R X=c(1,4,5,7); print(sd(X)); mean(X)"
     ],
     "language": "python",
     "metadata": {},
     "outputs": [
      {
       "output_type": "display_data",
       "text": [
        "[1] 2.5\n"
       ]
      },
      {
       "output_type": "pyout",
       "prompt_number": 19,
       "text": [
        "array([ 4.25])"
       ]
      }
     ],
     "prompt_number": 19
    },
    {
     "cell_type": "code",
     "collapsed": false,
     "input": [
      "%R data(mtcars); plot(mtcars$mpg, mtcars$hp)"
     ],
     "language": "python",
     "metadata": {},
     "outputs": [
      {
       "output_type": "display_data",
       "png": "[encoded data removed]"
      }
     ],
     "prompt_number": 7
    },
    {
     "cell_type": "code",
     "collapsed": false,
     "input": [
      "%%R\n",
      "library(ggplot2)\n",
      "p <- ggplot(mtcars, aes(x=mpg, y=hp)) + geom_point()\n",
      "print(p);"
     ],
     "language": "python",
     "metadata": {},
     "outputs": [
      {
       "output_type": "display_data",
       "png": "[encoded data removed]"
      }
     ],
     "prompt_number": 18
    },
    {
     "cell_type": "heading",
     "level": 1,
     "metadata": {},
     "source": [
      "Loading the data"
     ]
    },
    {
     "cell_type": "markdown",
     "metadata": {},
     "source": [
      "For convience we will load the data using the pandas package"
     ]
    },
    {
     "cell_type": "code",
     "collapsed": false,
     "input": [
      "import pandas as pd"
     ],
     "language": "python",
     "metadata": {},
     "outputs": [],
     "prompt_number": 7
    },
    {
     "cell_type": "markdown",
     "metadata": {},
     "source": [
      "We will use this package to import our data"
     ]
    },
    {
     "cell_type": "code",
     "collapsed": false,
     "input": [
      "data = pd.read_csv(\"fb_attendees.csv\")\n",
      "data"
     ],
     "language": "python",
     "metadata": {},
     "outputs": [
      {
       "metadata": {},
       "output_type": "pyout",
       "prompt_number": 10,
       "text": [
        "<class 'pandas.core.frame.DataFrame'>\n",
        "Int64Index: 60038 entries, 0 to 60037\n",
        "Data columns:\n",
        "Venue          60038  non-null values\n",
        "Description    60038  non-null values\n",
        "Category       60038  non-null values\n",
        "dtypes: object(3)"
       ]
      }
     ],
     "prompt_number": 10
    },
    {
     "cell_type": "markdown",
     "metadata": {},
     "source": [
      "Pandas can be thought of like a data frame for python\n",
      "<br />\n",
      "It has lots of nice features we won't go into right now"
     ]
    },
    {
     "cell_type": "code",
     "collapsed": false,
     "input": [
      "print data.Description[52]\n",
      "print\n",
      "print data.Category[52]"
     ],
     "language": "python",
     "metadata": {},
     "outputs": [
      {
       "output_type": "stream",
       "stream": "stdout",
       "text": [
        "\u201cImminent\u201d is a powerful quartet rising out of Chicago with a real sound of rock/ metal \u2013 being themselves in every way, staying true to the styles of music they love. Their big sound rides with a powerful groove; the lyrics simply pierce your heart. Front man Dave describes the group as, \u201cAn aggressive passionate heart\u2019s cry of one\u2019s desire.\u201d Interpreting this poetic element Dave simply says, \u201cEach of us put everything we have into this band and in the music we play.\u201d\n",
        "\n",
        "Attractions/things to do\n"
       ]
      }
     ],
     "prompt_number": 14
    },
    {
     "cell_type": "heading",
     "level": 1,
     "metadata": {},
     "source": [
      "Transforming our Data using CountVectorizer"
     ]
    },
    {
     "cell_type": "markdown",
     "metadata": {},
     "source": [
      "We start by"
     ]
    },
    {
     "cell_type": "code",
     "collapsed": false,
     "input": [
      "import scipy.sparse as sparse\n",
      "from sklearn.feature_extraction.text import CountVectorizer"
     ],
     "language": "python",
     "metadata": {},
     "outputs": [],
     "prompt_number": 22
    },
    {
     "cell_type": "code",
     "collapsed": false,
     "input": [
      "venue_vec = CountVectorizer(stop_words=\"english\")\n",
      "desc_vec = CountVectorizer(stop_words=\"english\")"
     ],
     "language": "python",
     "metadata": {},
     "outputs": [],
     "prompt_number": 23
    },
    {
     "cell_type": "code",
     "collapsed": false,
     "input": [
      "venue_data = venue_vec.fit_transform(data.Venue)\n",
      "desc_data = desc_vec.fit_transform(data.Description)\n",
      "\n",
      "X = sparse.hstack((venue_data, desc_data))"
     ],
     "language": "python",
     "metadata": {},
     "outputs": []
    },
    {
     "cell_type": "code",
     "collapsed": false,
     "input": [
      "print X.shape"
     ],
     "language": "python",
     "metadata": {},
     "outputs": [
      {
       "output_type": "stream",
       "stream": "stdout",
       "text": [
        "(60038, 8368)\n"
       ]
      }
     ],
     "prompt_number": 49
    },
    {
     "cell_type": "markdown",
     "metadata": {},
     "source": [
      "Unfortunately, we need to use less columns, so let's drop rare words"
     ]
    },
    {
     "cell_type": "code",
     "collapsed": false,
     "input": [
      "venue_vec = CountVectorizer(stop_words=\"english\", min_df=0.001)\n",
      "desc_vec = CountVectorizer(stop_words=\"english\", min_df=0.001)\n",
      "\n",
      "venue_data = venue_vec.fit_transform(data.Venue)\n",
      "desc_data = desc_vec.fit_transform(data.Description)\n",
      "\n",
      "X = sparse.hstack((venue_data, desc_data))\n",
      "print X.shape"
     ],
     "language": "python",
     "metadata": {},
     "outputs": [
      {
       "output_type": "stream",
       "stream": "stdout",
       "text": [
        "(60038, 8368)\n"
       ]
      }
     ],
     "prompt_number": 58
    },
    {
     "cell_type": "code",
     "collapsed": false,
     "input": [
      "venue_vec.inverse_transform(venue_data)[:10]"
     ],
     "language": "python",
     "metadata": {},
     "outputs": [
      {
       "metadata": {},
       "output_type": "pyout",
       "prompt_number": 48,
       "text": [
        "[array([], \n",
        "      dtype='<U13'),\n",
        " array([u'30', u'club'], \n",
        "      dtype='<U13'),\n",
        " array([u'germany', u'live', u'radio', u'state'], \n",
        "      dtype='<U13'),\n",
        " array([u'chicago', u'group', u'miller', u'party', u'pre'], \n",
        "      dtype='<U13'),\n",
        " array([u'meeting', u'team'], \n",
        "      dtype='<U13'),\n",
        " array([u'calgary', u'central', u'girl', u'live', u'talk'], \n",
        "      dtype='<U13'),\n",
        " array([u'free', u'party', u'pool'], \n",
        "      dtype='<U13'),\n",
        " array([u'club', u'new', u'night', u'social'], \n",
        "      dtype='<U13'),\n",
        " array([u'beach'], \n",
        "      dtype='<U13'),\n",
        " array([u'dead', u'hard', u'music', u'presents', u'rock'], \n",
        "      dtype='<U13')]"
       ]
      }
     ],
     "prompt_number": 48
    },
    {
     "cell_type": "heading",
     "level": 1,
     "metadata": {},
     "source": [
      "Label Encoding"
     ]
    },
    {
     "cell_type": "markdown",
     "metadata": {},
     "source": [
      "We need to encode the strings for our categories as numbers"
     ]
    },
    {
     "cell_type": "code",
     "collapsed": false,
     "input": [
      "from sklearn.preprocessing import LabelEncoder\n",
      "le = LabelEncoder()\n",
      "y = le.fit_transform(data.Category)"
     ],
     "language": "python",
     "metadata": {},
     "outputs": [],
     "prompt_number": 41
    },
    {
     "cell_type": "heading",
     "level": 1,
     "metadata": {},
     "source": [
      "Creating a Classifier"
     ]
    },
    {
     "cell_type": "markdown",
     "metadata": {},
     "source": [
      "We will create a stochastic gradient classifier to solve this"
     ]
    },
    {
     "cell_type": "code",
     "collapsed": false,
     "input": [
      "from sklearn.linear_model import SGDClassifier\n",
      "clf = SGDClassifier(alpha=0.001, n_iter=100)"
     ],
     "language": "python",
     "metadata": {},
     "outputs": [],
     "prompt_number": 21
    },
    {
     "cell_type": "markdown",
     "metadata": {},
     "source": [
      "Fit the data"
     ]
    },
    {
     "cell_type": "code",
     "collapsed": false,
     "input": [
      "clf = clf.fit(X,y)"
     ],
     "language": "python",
     "metadata": {},
     "outputs": [],
     "prompt_number": 42
    },
    {
     "cell_type": "heading",
     "level": 2,
     "metadata": {},
     "source": [
      "Predicting label"
     ]
    },
    {
     "cell_type": "code",
     "collapsed": false,
     "input": [
      "X_pred = sparse.hstack((venue_vec.transform([data.Venue[52]]),\n",
      "                        desc_vec.transform([data.Description[52]])))\n",
      "print le.inverse_transform(clf.predict(X_pred))"
     ],
     "language": "python",
     "metadata": {},
     "outputs": [
      {
       "output_type": "stream",
       "stream": "stdout",
       "text": [
        "86    NaN\n",
        "Name: Category\n"
       ]
      }
     ],
     "prompt_number": 43
    },
    {
     "cell_type": "heading",
     "level": 1,
     "metadata": {},
     "source": [
      "Testing the Classifier"
     ]
    },
    {
     "cell_type": "code",
     "collapsed": false,
     "input": [
      "from sklearn.metrics import classification_report"
     ],
     "language": "python",
     "metadata": {},
     "outputs": [],
     "prompt_number": 18
    },
    {
     "cell_type": "markdown",
     "metadata": {},
     "source": [
      "Let's make a test set"
     ]
    },
    {
     "cell_type": "code",
     "collapsed": false,
     "input": [
      "venue_data_test = venue_vec.transform(data.Venue[:1000])\n",
      "desc_data_test = desc_vec.transform(data.Description[:1000])\n",
      "\n",
      "X_test = sparse.hstack((venue_data_test, desc_data_test))\n",
      "y_test = le.transform(data.Category[:1000])"
     ],
     "language": "python",
     "metadata": {},
     "outputs": [],
     "prompt_number": 64
    },
    {
     "cell_type": "code",
     "collapsed": false,
     "input": [
      "y_pred = clf.predict(X_test)\n",
      "print classification_report(y_test, y_pred. le.classes_)"
     ],
     "language": "python",
     "metadata": {},
     "outputs": [
      {
       "ename": "AttributeError",
       "evalue": "'numpy.ndarray' object has no attribute 'le'",
       "output_type": "pyerr",
       "traceback": [
        "\u001b[1;31m---------------------------------------------------------------------------\u001b[0m\n\u001b[1;31mAttributeError\u001b[0m                            Traceback (most recent call last)",
        "\u001b[1;32m<ipython-input-66-f9ac624f3917>\u001b[0m in \u001b[0;36m<module>\u001b[1;34m()\u001b[0m\n\u001b[0;32m      1\u001b[0m \u001b[0my_pred\u001b[0m \u001b[1;33m=\u001b[0m \u001b[0mclf\u001b[0m\u001b[1;33m.\u001b[0m\u001b[0mpredict\u001b[0m\u001b[1;33m(\u001b[0m\u001b[0mX_test\u001b[0m\u001b[1;33m)\u001b[0m\u001b[1;33m\u001b[0m\u001b[0m\n\u001b[1;32m----> 2\u001b[1;33m \u001b[1;32mprint\u001b[0m \u001b[0mclassification_report\u001b[0m\u001b[1;33m(\u001b[0m\u001b[0my_test\u001b[0m\u001b[1;33m,\u001b[0m \u001b[0my_pred\u001b[0m\u001b[1;33m.\u001b[0m \u001b[0mle\u001b[0m\u001b[1;33m.\u001b[0m\u001b[0mclasses_\u001b[0m\u001b[1;33m)\u001b[0m\u001b[1;33m\u001b[0m\u001b[0m\n\u001b[0m",
        "\u001b[1;31mAttributeError\u001b[0m: 'numpy.ndarray' object has no attribute 'le'"
       ]
      }
     ],
     "prompt_number": 66
    },
    {
     "cell_type": "heading",
     "level": 1,
     "metadata": {},
     "source": [
      "Making better features for our Classifier"
     ]
    },
    {
     "cell_type": "markdown",
     "metadata": {},
     "source": [
      "The trouble with our features is they don't overweigh words that occur in many documents\n",
      "\n",
      "Stripping common words (stopwords) helps, but there are per-corpus words that can still\n",
      "<br>\n",
      "pollute the results\n",
      "\n",
      "Let's use a Vectorizer that reviews some of the words"
     ]
    },
    {
     "cell_type": "code",
     "collapsed": false,
     "input": [
      "from sklearn.feature_extraction.text import TfidfVectorizer"
     ],
     "language": "python",
     "metadata": {},
     "outputs": [],
     "prompt_number": 16
    },
    {
     "cell_type": "code",
     "collapsed": false,
     "input": [
      "venue_vec = TfidfVectorizer(stop_words=\"english\", min_df=0.001)\n",
      "desc_vec = TfidfVectorizer(stop_words=\"english\", min_df=0.001)\n"
     ],
     "language": "python",
     "metadata": {},
     "outputs": [],
     "prompt_number": 17
    },
    {
     "cell_type": "code",
     "collapsed": false,
     "input": [
      "venue_data = venue_vec.fit_transform(data.Venue)\n",
      "desc_data = desc_vec.fit_transform(data.Description)\n",
      "\n",
      "X = sparse.hstack((venue_data, desc_data))"
     ],
     "language": "python",
     "metadata": {},
     "outputs": []
    },
    {
     "cell_type": "heading",
     "level": 1,
     "metadata": {},
     "source": [
      "Trying different classifiers"
     ]
    },
    {
     "cell_type": "markdown",
     "metadata": {},
     "source": [
      "Let's try another classifier"
     ]
    },
    {
     "cell_type": "code",
     "collapsed": false,
     "input": [
      "from sklearn.naive_bayes import MultinomialNB\n",
      "clf = MultinomialNB()"
     ],
     "language": "python",
     "metadata": {},
     "outputs": [],
     "prompt_number": 45
    },
    {
     "cell_type": "heading",
     "level": 2,
     "metadata": {},
     "source": [
      "Predicting label with probability"
     ]
    },
    {
     "cell_type": "code",
     "collapsed": false,
     "input": [
      "clf = clf.fit(X,y)\n",
      "print clf.predict_proba(X_pred)"
     ],
     "language": "python",
     "metadata": {},
     "outputs": [
      {
       "output_type": "stream",
       "stream": "stdout",
       "text": [
        "[[  9.70855430e-19   9.40252580e-28   1.21934406e-26   2.63416982e-21\n",
        "    1.65280273e-26   5.10992166e-27   1.82358024e-24   2.42738975e-19\n",
        "    2.00286153e-03   1.27894989e-19   3.23604061e-28   2.72031904e-10\n",
        "    3.19513836e-22   2.09151121e-20   2.15720627e-24   5.29628034e-27\n",
        "    9.10921125e-27   6.91661252e-27   4.04502843e-27   3.57327764e-05\n",
        "    3.52035830e-26   1.07341403e-25   1.00427541e-16   4.07003724e-26\n",
        "    8.26048345e-20   3.80994447e-27   1.15495175e-26   6.79629247e-25\n",
        "    2.04608336e-21   2.25992477e-27   2.00397461e-16   7.52180006e-22\n",
        "    4.39226360e-08   3.21725644e-23   3.68878288e-22   1.25124914e-14\n",
        "    2.55600163e-15   3.11551488e-18   1.22797539e-11   5.31128115e-26\n",
        "    7.23767731e-11   9.97959813e-01   7.55724425e-20   1.92560403e-24\n",
        "    1.33083248e-21   5.78840492e-19   8.62477658e-27   1.55480697e-27\n",
        "    9.87429959e-16   1.47015740e-16   3.21596272e-07   3.31371258e-27\n",
        "    8.98582021e-27   9.30815440e-20   7.50051833e-26   2.83084203e-25\n",
        "    2.70137309e-27   2.00884040e-22   7.94419908e-26   3.52336548e-27\n",
        "    9.19927901e-22   3.24517308e-23   1.31084382e-26   5.61246176e-27\n",
        "    2.31590123e-27   1.50193065e-24   2.44257285e-15   1.86821863e-27\n",
        "    2.42791778e-27   5.01995014e-25   1.36769276e-24   8.29525176e-07\n",
        "    1.15339926e-26   2.55849148e-20   1.85487160e-08   2.71188734e-24\n",
        "    5.06236899e-19   5.05472565e-15   8.19256913e-22   2.39330023e-17\n",
        "    1.45012892e-07   5.26865834e-16   5.28635569e-24   1.29462636e-23\n",
        "    2.47586288e-26   1.26808962e-16   2.26389205e-07   1.05554282e-25\n",
        "    2.10546477e-22   1.29880572e-20   4.01698297e-14   1.49301966e-18\n",
        "    2.32060319e-25   7.27486285e-23   5.89688570e-27   4.76081690e-25\n",
        "    9.99548368e-26   3.84443292e-23   5.91835731e-27   4.33898588e-24\n",
        "    1.87699777e-25   2.15272282e-20   8.45936798e-20   1.71420000e-23\n",
        "    1.75149667e-23   1.87807923e-09   1.23559437e-18   3.41960490e-22\n",
        "    6.29072863e-14   2.23711068e-25   1.73160150e-11   2.57622289e-31\n",
        "    3.16641706e-25   1.74240822e-27   5.69555825e-09   6.18716409e-34\n",
        "    1.26507989e-24   1.18197440e-25   3.36996007e-27   1.38609337e-14\n",
        "    4.49837067e-21   7.69206125e-20   1.35140025e-26   5.16542121e-23\n",
        "    2.63733321e-24   3.50316078e-28   3.50979548e-18   3.29940444e-21\n",
        "    4.57351145e-22   4.20654662e-27   3.96143579e-27   2.42928294e-26\n",
        "    2.48140694e-27   1.02391405e-23   9.93957967e-25   1.45019743e-29\n",
        "    5.47361826e-26   1.01668176e-25   2.88566447e-22   7.01170446e-28\n",
        "    8.26549498e-21   1.18153391e-24   3.43128244e-12   6.75609130e-27\n",
        "    1.93120774e-24]]\n"
       ]
      }
     ],
     "prompt_number": 53
    },
    {
     "cell_type": "heading",
     "level": 1,
     "metadata": {},
     "source": [
      "Recommendation Challenge"
     ]
    },
    {
     "cell_type": "markdown",
     "metadata": {},
     "source": [
      "## Data Details\n",
      "### The full data has the following columns\n",
      "* Title\n",
      "* Description\n",
      "* Category\n",
      "* Location\n",
      "* Timezone\n",
      "* Number of RSVPs\n",
      "* Start Time\n",
      "* End Time\n",
      "\n",
      "__Not all fields are guaranteed to exist for every venue__"
     ]
    },
    {
     "cell_type": "markdown",
     "metadata": {},
     "source": [
      "## Describe Evaluation Criteria\n",
      "\n",
      "There are many categories and you won't be able to get all correct\n",
      "\n",
      "\n",
      "Hence we will use average [F1 score](http://en.wikipedia.org/wiki/F1_score) when measuring accuracy of a prediction\n",
      "\n",
      "This means we will take the weighted average of all the precision \n",
      "<br />\n",
      "and recall scores for each category, and use these to create \n",
      "<br />\n",
      "a f1-score. The higher the score the better"
     ]
    },
    {
     "cell_type": "markdown",
     "metadata": {},
     "source": [
      "## Contest Details\n",
      "\n",
      "* Teams can be no larger than four people\n",
      "* Judging will occur next week May 14th, 2013\n",
      "* There will be a first and second place for best accuracy\n",
      "* A special mention will be made for unique solutions"
     ]
    },
    {
     "cell_type": "heading",
     "level": 1,
     "metadata": {},
     "source": [
      "Further Details"
     ]
    },
    {
     "cell_type": "raw",
     "metadata": {},
     "source": [
      "I am available for tutoring and consultation\n",
      "\n",
      "rob@zinkov.com"
     ]
    }
   ],
   "metadata": {}
  }
 ]
}