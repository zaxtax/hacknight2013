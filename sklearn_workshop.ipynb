{
 "metadata": {
  "name": "sklearn_workshop"
 },
 "nbformat": 3,
 "nbformat_minor": 0,
 "worksheets": [
  {
   "cells": [
    {
     "cell_type": "markdown",
     "metadata": {},
     "source": [
      "# Hack Night Workshop\n",
      "## May 7th 2013\n",
      "## by Rob Zinkov (rob@zinkov.com)"
     ]
    },
    {
     "cell_type": "heading",
     "level": 1,
     "metadata": {},
     "source": [
      "Brief introduction to ipython notebook"
     ]
    },
    {
     "cell_type": "markdown",
     "metadata": {},
     "source": [
      "First let's make sure we have plotting enabled"
     ]
    },
    {
     "cell_type": "code",
     "collapsed": false,
     "input": [
      "%pylab inline"
     ],
     "language": "python",
     "metadata": {},
     "outputs": [
      {
       "output_type": "stream",
       "stream": "stdout",
       "text": [
        "\n",
        "Welcome to pylab, a matplotlib-based Python environment [backend: module://IPython.kernel.zmq.pylab.backend_inline].\n",
        "For more information, type 'help(pylab)'.\n"
       ]
      }
     ],
     "prompt_number": 68
    },
    {
     "cell_type": "code",
     "collapsed": false,
     "input": [
      "import matplotlib.pylab as plt\n",
      "import numpy as np\n",
      "\n",
      "x = np.linspace(-10,10,100)\n",
      "plt.plot(x, np.sin(0.75*x))\n",
      "plt.show()"
     ],
     "language": "python",
     "metadata": {},
     "outputs": [
      {
       "metadata": {},
       "output_type": "display_data",
       "png": "[encoded data removed]",
       "text": [
        "<matplotlib.figure.Figure at 0x32c968d0>"
       ]
      }
     ],
     "prompt_number": 71
    },
    {
     "cell_type": "markdown",
     "metadata": {},
     "source": [
      "We also have the option to run commands from here"
     ]
    },
    {
     "cell_type": "code",
     "collapsed": false,
     "input": [
      "!!ls"
     ],
     "language": "python",
     "metadata": {},
     "outputs": [
      {
       "metadata": {},
       "output_type": "pyout",
       "prompt_number": 72,
       "text": [
        "['fb_attendees_cleaned.csv',\n",
        " 'fb_attendees.csv',\n",
        " 'hacknight.R',\n",
        " 'README.md',\n",
        " 'reveal',\n",
        " 'sklearn_workshop.ipynb']"
       ]
      }
     ],
     "prompt_number": 72
    },
    {
     "cell_type": "markdown",
     "metadata": {},
     "source": [
      "The cell output is interactive and live"
     ]
    },
    {
     "cell_type": "code",
     "collapsed": false,
     "input": [
      "from time import sleep\n",
      "import sys\n",
      "\n",
      "for i in range(21):\n",
      "    sys.stdout.write('\\r')\n",
      "    # the exact output you're looking for:\n",
      "    sys.stdout.write(\"[%-20s] %d%%\" % ('='*i, 5*i))\n",
      "    sys.stdout.flush()\n",
      "    sleep(0.25)"
     ],
     "language": "python",
     "metadata": {},
     "outputs": [
      {
       "output_type": "stream",
       "stream": "stdout",
       "text": [
        "\r",
        "[                    ] 0%"
       ]
      },
      {
       "output_type": "stream",
       "stream": "stdout",
       "text": [
        "\r",
        "[=                   ] 5%"
       ]
      },
      {
       "output_type": "stream",
       "stream": "stdout",
       "text": [
        "\r",
        "[==                  ] 10%"
       ]
      },
      {
       "output_type": "stream",
       "stream": "stdout",
       "text": [
        "\r",
        "[===                 ] 15%"
       ]
      },
      {
       "output_type": "stream",
       "stream": "stdout",
       "text": [
        "\r",
        "[====                ] 20%"
       ]
      },
      {
       "output_type": "stream",
       "stream": "stdout",
       "text": [
        "\r",
        "[=====               ] 25%"
       ]
      },
      {
       "output_type": "stream",
       "stream": "stdout",
       "text": [
        "\r",
        "[======              ] 30%"
       ]
      },
      {
       "output_type": "stream",
       "stream": "stdout",
       "text": [
        "\r",
        "[=======             ] 35%"
       ]
      },
      {
       "output_type": "stream",
       "stream": "stdout",
       "text": [
        "\r",
        "[========            ] 40%"
       ]
      },
      {
       "output_type": "stream",
       "stream": "stdout",
       "text": [
        "\r",
        "[=========           ] 45%"
       ]
      },
      {
       "output_type": "stream",
       "stream": "stdout",
       "text": [
        "\r",
        "[==========          ] 50%"
       ]
      },
      {
       "output_type": "stream",
       "stream": "stdout",
       "text": [
        "\r",
        "[===========         ] 55%"
       ]
      },
      {
       "output_type": "stream",
       "stream": "stdout",
       "text": [
        "\r",
        "[============        ] 60%"
       ]
      },
      {
       "output_type": "stream",
       "stream": "stdout",
       "text": [
        "\r",
        "[=============       ] 65%"
       ]
      },
      {
       "output_type": "stream",
       "stream": "stdout",
       "text": [
        "\r",
        "[==============      ] 70%"
       ]
      },
      {
       "output_type": "stream",
       "stream": "stdout",
       "text": [
        "\r",
        "[===============     ] 75%"
       ]
      },
      {
       "output_type": "stream",
       "stream": "stdout",
       "text": [
        "\r",
        "[================    ] 80%"
       ]
      },
      {
       "output_type": "stream",
       "stream": "stdout",
       "text": [
        "\r",
        "[=================   ] 85%"
       ]
      },
      {
       "output_type": "stream",
       "stream": "stdout",
       "text": [
        "\r",
        "[==================  ] 90%"
       ]
      },
      {
       "output_type": "stream",
       "stream": "stdout",
       "text": [
        "\r",
        "[=================== ] 95%"
       ]
      },
      {
       "output_type": "stream",
       "stream": "stdout",
       "text": [
        "\r",
        "[====================] 100%"
       ]
      }
     ],
     "prompt_number": 73
    },
    {
     "cell_type": "markdown",
     "metadata": {},
     "source": [
      "We also have the option of calling other languages"
     ]
    },
    {
     "cell_type": "code",
     "collapsed": false,
     "input": [
      "%load_ext rmagic"
     ],
     "language": "python",
     "metadata": {},
     "outputs": [],
     "prompt_number": 74
    },
    {
     "cell_type": "code",
     "collapsed": false,
     "input": [
      "%R X=c(1,4,5,7); print(sd(X)); mean(X)"
     ],
     "language": "python",
     "metadata": {},
     "outputs": [
      {
       "metadata": {},
       "output_type": "display_data",
       "text": [
        "[1] 2.5\n"
       ]
      },
      {
       "metadata": {},
       "output_type": "pyout",
       "prompt_number": 75,
       "text": [
        "array([ 4.25])"
       ]
      }
     ],
     "prompt_number": 75
    },
    {
     "cell_type": "code",
     "collapsed": false,
     "input": [
      "%R data(mtcars); plot(mtcars$mpg, mtcars$hp)"
     ],
     "language": "python",
     "metadata": {},
     "outputs": [
      {
       "metadata": {},
       "output_type": "display_data",
       "png": "[encoded data removed]"
      }
     ],
     "prompt_number": 76
    },
    {
     "cell_type": "code",
     "collapsed": false,
     "input": [
      "%%R\n",
      "library(ggplot2)\n",
      "p <- ggplot(mtcars, aes(x=mpg, y=hp)) + geom_point()\n",
      "print(p);"
     ],
     "language": "python",
     "metadata": {},
     "outputs": [
      {
       "metadata": {},
       "output_type": "display_data",
       "png": "[encoded data removed]"
      }
     ],
     "prompt_number": 77
    },
    {
     "cell_type": "heading",
     "level": 1,
     "metadata": {},
     "source": [
      "Loading the data"
     ]
    },
    {
     "cell_type": "markdown",
     "metadata": {},
     "source": [
      "For convience we will load the data using the pandas package"
     ]
    },
    {
     "cell_type": "code",
     "collapsed": false,
     "input": [
      "import pandas as pd"
     ],
     "language": "python",
     "metadata": {},
     "outputs": [],
     "prompt_number": 78
    },
    {
     "cell_type": "markdown",
     "metadata": {},
     "source": [
      "We will use this package to import our data"
     ]
    },
    {
     "cell_type": "code",
     "collapsed": false,
     "input": [
      "data = pd.read_csv(\"fb_attendees_cleaned.csv\")\n",
      "data"
     ],
     "language": "python",
     "metadata": {},
     "outputs": [
      {
       "metadata": {},
       "output_type": "pyout",
       "prompt_number": 79,
       "text": [
        "<class 'pandas.core.frame.DataFrame'>\n",
        "Int64Index: 60038 entries, 0 to 60037\n",
        "Data columns:\n",
        "Unnamed: 0     60038  non-null values\n",
        "Venue          60038  non-null values\n",
        "Description    60038  non-null values\n",
        "Category       60038  non-null values\n",
        "dtypes: int64(1), object(3)"
       ]
      }
     ],
     "prompt_number": 79
    },
    {
     "cell_type": "markdown",
     "metadata": {},
     "source": [
      "Pandas can be thought of like a data frame for python\n",
      "<br />\n",
      "It has lots of nice features we won't go into right now"
     ]
    },
    {
     "cell_type": "code",
     "collapsed": false,
     "input": [
      "print data.Description[52]\n",
      "print\n",
      "print data.Category[52]"
     ],
     "language": "python",
     "metadata": {},
     "outputs": [
      {
       "output_type": "stream",
       "stream": "stdout",
       "text": [
        "\u201cImminent\u201d is a powerful quartet rising out of Chicago with a real sound of rock/ metal \u2013 being themselves in every way, staying true to the styles of music they love. Their big sound rides with a powerful groove; the lyrics simply pierce your heart. Front man Dave describes the group as, \u201cAn aggressive passionate heart\u2019s cry of one\u2019s desire.\u201d Interpreting this poetic element Dave simply says, \u201cEach of us put everything we have into this band and in the music we play.\u201d\n",
        "\n",
        "Attractions/things to do\n"
       ]
      }
     ],
     "prompt_number": 82
    },
    {
     "cell_type": "heading",
     "level": 1,
     "metadata": {},
     "source": [
      "Transforming our Data using CountVectorizer"
     ]
    },
    {
     "cell_type": "markdown",
     "metadata": {},
     "source": [
      "We start by"
     ]
    },
    {
     "cell_type": "code",
     "collapsed": false,
     "input": [
      "import scipy.sparse as sparse\n",
      "from sklearn.feature_extraction.text import CountVectorizer"
     ],
     "language": "python",
     "metadata": {},
     "outputs": [],
     "prompt_number": 83
    },
    {
     "cell_type": "code",
     "collapsed": false,
     "input": [
      "venue_vec = CountVectorizer(stop_words=\"english\")\n",
      "desc_vec = CountVectorizer(stop_words=\"english\")"
     ],
     "language": "python",
     "metadata": {},
     "outputs": [],
     "prompt_number": 84
    },
    {
     "cell_type": "code",
     "collapsed": false,
     "input": [
      "venue_data = venue_vec.fit_transform(data.Venue)\n",
      "desc_data = desc_vec.fit_transform(data.Description)\n",
      "\n",
      "X = sparse.hstack((venue_data, desc_data))"
     ],
     "language": "python",
     "metadata": {},
     "outputs": [],
     "prompt_number": 85
    },
    {
     "cell_type": "code",
     "collapsed": false,
     "input": [
      "print X.shape"
     ],
     "language": "python",
     "metadata": {},
     "outputs": [
      {
       "output_type": "stream",
       "stream": "stdout",
       "text": [
        "(60038, 118810)\n"
       ]
      }
     ],
     "prompt_number": 86
    },
    {
     "cell_type": "markdown",
     "metadata": {},
     "source": [
      "Unfortunately, we need to use less columns, so let's drop rare words"
     ]
    },
    {
     "cell_type": "code",
     "collapsed": false,
     "input": [
      "venue_vec = CountVectorizer(stop_words=\"english\", min_df=0.001)\n",
      "desc_vec = CountVectorizer(stop_words=\"english\", min_df=0.001)\n",
      "\n",
      "venue_data = venue_vec.fit_transform(data.Venue)\n",
      "desc_data = desc_vec.fit_transform(data.Description)\n",
      "\n",
      "X = sparse.hstack((venue_data, desc_data))\n",
      "print X.shape"
     ],
     "language": "python",
     "metadata": {},
     "outputs": [
      {
       "output_type": "stream",
       "stream": "stdout",
       "text": [
        "(60038, 8368)\n"
       ]
      },
      {
       "output_type": "stream",
       "stream": "stdout",
       "text": [
        "(60038, 8368)\n"
       ]
      }
     ],
     "prompt_number": 88
    },
    {
     "cell_type": "code",
     "collapsed": false,
     "input": [
      "print data.Venue[3]\n",
      "venue_vec.inverse_transform(venue_data)[:10]"
     ],
     "language": "python",
     "metadata": {},
     "outputs": [
      {
       "output_type": "stream",
       "stream": "stdout",
       "text": [
        "Group outing at the Chicago Fire Miller Lite Party Deck & pre-party at Fado\n"
       ]
      },
      {
       "metadata": {},
       "output_type": "pyout",
       "prompt_number": 90,
       "text": [
        "[array([], \n",
        "      dtype='<U13'),\n",
        " array([u'30', u'club'], \n",
        "      dtype='<U13'),\n",
        " array([u'germany', u'live', u'radio', u'state'], \n",
        "      dtype='<U13'),\n",
        " array([u'chicago', u'group', u'miller', u'party', u'pre'], \n",
        "      dtype='<U13'),\n",
        " array([u'meeting', u'team'], \n",
        "      dtype='<U13'),\n",
        " array([u'calgary', u'central', u'girl', u'live', u'talk'], \n",
        "      dtype='<U13'),\n",
        " array([u'free', u'party', u'pool'], \n",
        "      dtype='<U13'),\n",
        " array([u'club', u'new', u'night', u'social'], \n",
        "      dtype='<U13'),\n",
        " array([u'beach'], \n",
        "      dtype='<U13'),\n",
        " array([u'dead', u'hard', u'music', u'presents', u'rock'], \n",
        "      dtype='<U13')]"
       ]
      }
     ],
     "prompt_number": 90
    },
    {
     "cell_type": "code",
     "collapsed": false,
     "input": [
      "CountVectorizer?"
     ],
     "language": "python",
     "metadata": {},
     "outputs": [],
     "prompt_number": 91
    },
    {
     "cell_type": "heading",
     "level": 1,
     "metadata": {},
     "source": [
      "Label Encoding"
     ]
    },
    {
     "cell_type": "markdown",
     "metadata": {},
     "source": [
      "We need to encode the strings for our categories as numbers"
     ]
    },
    {
     "cell_type": "code",
     "collapsed": false,
     "input": [
      "from sklearn.preprocessing import LabelEncoder\n",
      "le = LabelEncoder()\n",
      "y = le.fit_transform(data.Category)"
     ],
     "language": "python",
     "metadata": {},
     "outputs": [],
     "prompt_number": 100
    },
    {
     "cell_type": "heading",
     "level": 1,
     "metadata": {},
     "source": [
      "Creating a Classifier"
     ]
    },
    {
     "cell_type": "markdown",
     "metadata": {},
     "source": [
      "We will create a stochastic gradient classifier to solve this"
     ]
    },
    {
     "cell_type": "code",
     "collapsed": false,
     "input": [
      "from sklearn.linear_model import SGDClassifier\n",
      "clf = SGDClassifier(alpha=0.001, n_iter=2)"
     ],
     "language": "python",
     "metadata": {},
     "outputs": [],
     "prompt_number": 106
    },
    {
     "cell_type": "markdown",
     "metadata": {},
     "source": [
      "Fit the data"
     ]
    },
    {
     "cell_type": "code",
     "collapsed": false,
     "input": [
      "clf = clf.fit(X,y)"
     ],
     "language": "python",
     "metadata": {},
     "outputs": [],
     "prompt_number": 112
    },
    {
     "cell_type": "heading",
     "level": 2,
     "metadata": {},
     "source": [
      "Predicting label"
     ]
    },
    {
     "cell_type": "code",
     "collapsed": false,
     "input": [
      "X_pred = sparse.hstack((venue_vec.transform([data.Venue[12]]),\n",
      "                        desc_vec.transform([data.Description[12]])))\n",
      "print le.inverse_transform(clf.predict(X_pred))"
     ],
     "language": "python",
     "metadata": {},
     "outputs": [
      {
       "output_type": "stream",
       "stream": "stdout",
       "text": [
        "8    NaN\n",
        "Name: Category\n"
       ]
      }
     ],
     "prompt_number": 108
    },
    {
     "cell_type": "heading",
     "level": 1,
     "metadata": {},
     "source": [
      "Testing the Classifier"
     ]
    },
    {
     "cell_type": "code",
     "collapsed": false,
     "input": [
      "from sklearn.metrics import classification_report"
     ],
     "language": "python",
     "metadata": {},
     "outputs": [],
     "prompt_number": 98
    },
    {
     "cell_type": "markdown",
     "metadata": {},
     "source": [
      "Let's make a test set"
     ]
    },
    {
     "cell_type": "code",
     "collapsed": false,
     "input": [
      "venue_data_test = venue_vec.transform(data.Venue[:1000])\n",
      "desc_data_test = desc_vec.transform(data.Description[:1000])\n",
      "\n",
      "X_test = sparse.hstack((venue_data_test, desc_data_test))\n",
      "y_test = le.transform(data.Category[:1000])"
     ],
     "language": "python",
     "metadata": {},
     "outputs": [],
     "prompt_number": 109
    },
    {
     "cell_type": "code",
     "collapsed": false,
     "input": [
      "y_pred = clf.predict(X_test)\n",
      "print classification_report(y_test, y_pred, target_names=list(le.classes_))"
     ],
     "language": "python",
     "metadata": {},
     "outputs": [
      {
       "output_type": "stream",
       "stream": "stdout",
       "text": [
        "                                 precision    recall  f1-score   support\n",
        "\n",
        "   Arts/entertainment/nightlife       0.41      0.25      0.31        72\n",
        "       Attractions/things to do       0.00      0.00      0.00        10\n",
        "                            Bar       0.00      0.00      0.00        15\n",
        "  Church/religious organization       0.00      0.00      0.00         6\n",
        "                           Club       0.57      0.52      0.54        33\n",
        "                      Community       1.00      0.06      0.11        18\n",
        "         Community organization       0.00      0.00      0.00         6\n",
        "                        Company       0.80      0.22      0.35        18\n",
        "                   Concert tour       0.29      0.33      0.31         6\n",
        "                  Concert venue       0.43      0.54      0.48        87\n",
        "                      Education       0.00      0.00      0.00        11\n",
        "  Event planning/event services       1.00      0.25      0.40        12\n",
        "                 Local business       0.26      0.11      0.16        81\n",
        "             Museum/art gallery       1.00      0.25      0.40        12\n",
        "                  Musician/band       0.57      0.85      0.68       204\n",
        "        Non-profit organization       0.44      0.65      0.52       119\n",
        "                   Organization       1.00      0.12      0.21        17\n",
        "                          Other       0.45      0.59      0.51       155\n",
        "                Product/service       1.00      0.24      0.38        17\n",
        "                  Public figure       1.00      0.15      0.27        13\n",
        "                Restaurant/cafe       1.00      0.25      0.40        12\n",
        "Retail and consumer merchandise       1.00      0.94      0.97        16\n",
        "   Sports/recreation/activities       0.00      0.00      0.00         3\n",
        "                 Travel/leisure       0.96      0.89      0.93        57\n",
        "\n",
        "                    avg / total       0.53      0.52      0.48      1000\n",
        "\n"
       ]
      }
     ],
     "prompt_number": 118
    },
    {
     "cell_type": "heading",
     "level": 1,
     "metadata": {},
     "source": [
      "Making better features for our Classifier"
     ]
    },
    {
     "cell_type": "markdown",
     "metadata": {},
     "source": [
      "The trouble with our features is they don't overweigh words that occur in many documents\n",
      "\n",
      "Stripping common words (stopwords) helps, but there are per-corpus words that can still\n",
      "<br>\n",
      "pollute the results\n",
      "\n",
      "Let's use a Vectorizer that reviews some of the words"
     ]
    },
    {
     "cell_type": "code",
     "collapsed": false,
     "input": [
      "from sklearn.feature_extraction.text import TfidfVectorizer"
     ],
     "language": "python",
     "metadata": {},
     "outputs": [],
     "prompt_number": 103
    },
    {
     "cell_type": "code",
     "collapsed": false,
     "input": [
      "venue_vec = TfidfVectorizer(stop_words=\"english\", min_df=0.001)\n",
      "desc_vec = TfidfVectorizer(stop_words=\"english\", min_df=0.001)\n"
     ],
     "language": "python",
     "metadata": {},
     "outputs": [],
     "prompt_number": 104
    },
    {
     "cell_type": "code",
     "collapsed": false,
     "input": [
      "venue_data = venue_vec.fit_transform(data.Venue)\n",
      "desc_data = desc_vec.fit_transform(data.Description)\n",
      "\n",
      "X = sparse.hstack((venue_data, desc_data))"
     ],
     "language": "python",
     "metadata": {},
     "outputs": [],
     "prompt_number": 105
    },
    {
     "cell_type": "heading",
     "level": 1,
     "metadata": {},
     "source": [
      "Trying different classifiers"
     ]
    },
    {
     "cell_type": "markdown",
     "metadata": {},
     "source": [
      "Let's try another classifier"
     ]
    },
    {
     "cell_type": "code",
     "collapsed": false,
     "input": [
      "from sklearn.naive_bayes import MultinomialNB\n",
      "clf = MultinomialNB()"
     ],
     "language": "python",
     "metadata": {},
     "outputs": [],
     "prompt_number": 111
    },
    {
     "cell_type": "heading",
     "level": 2,
     "metadata": {},
     "source": [
      "Predicting label with probability"
     ]
    },
    {
     "cell_type": "code",
     "collapsed": false,
     "input": [
      "clf = clf.fit(X,y)\n",
      "print clf.predict_proba(X_pred)\n",
      "print le.classes_"
     ],
     "language": "python",
     "metadata": {},
     "outputs": [
      {
       "output_type": "stream",
       "stream": "stdout",
       "text": [
        "[[ 0.25983319  0.00810589  0.00240142  0.00281244  0.07844283  0.00463808\n",
        "   0.00377774  0.01141923  0.4327123   0.01894497  0.00074936  0.01138551\n",
        "   0.02708225  0.00102636  0.06260782  0.01425953  0.0061257   0.03636887\n",
        "   0.009683    0.00160927  0.00194142  0.00163442  0.00198699  0.00045141]]\n",
        "Category\n",
        "0              Arts/entertainment/nightlife\n",
        "52                 Attractions/things to do\n",
        "213                                     Bar\n",
        "19            Church/religious organization\n",
        "75                                     Club\n",
        "57                                Community\n",
        "17                   Community organization\n",
        "61                                  Company\n",
        "12                             Concert tour\n",
        "1                             Concert venue\n",
        "122                               Education\n",
        "89            Event planning/event services\n",
        "26                           Local business\n",
        "121                      Museum/art gallery\n",
        "2                             Musician/band\n",
        "3                   Non-profit organization\n",
        "22                             Organization\n",
        "13                                    Other\n",
        "88                          Product/service\n",
        "33                            Public figure\n",
        "9                           Restaurant/cafe\n",
        "51          Retail and consumer merchandise\n",
        "18             Sports/recreation/activities\n",
        "32                           Travel/leisure\n",
        "Name: Category\n"
       ]
      }
     ],
     "prompt_number": 115
    },
    {
     "cell_type": "heading",
     "level": 1,
     "metadata": {},
     "source": [
      "Recommendation Challenge"
     ]
    },
    {
     "cell_type": "markdown",
     "metadata": {},
     "source": [
      "## Data Details\n",
      "### The full data has the following columns\n",
      "* Title\n",
      "* Description\n",
      "* Category\n",
      "* Location\n",
      "* Timezone\n",
      "* Number of RSVPs\n",
      "* Start Time\n",
      "* End Time\n",
      "\n",
      "__Not all fields are guaranteed to exist for every venue__"
     ]
    },
    {
     "cell_type": "markdown",
     "metadata": {},
     "source": [
      "## Describe Evaluation Criteria\n",
      "\n",
      "There are many categories and you won't be able to get all correct\n",
      "\n",
      "\n",
      "Hence we will use average [F1 score](http://en.wikipedia.org/wiki/F1_score) when measuring accuracy of a prediction\n",
      "\n",
      "This means we will take the weighted average of all the precision \n",
      "<br />\n",
      "and recall scores for each category, and use these to create \n",
      "<br />\n",
      "a f1-score. The higher the score the better"
     ]
    },
    {
     "cell_type": "markdown",
     "metadata": {},
     "source": [
      "## Contest Details\n",
      "\n",
      "* Teams can be no larger than four people\n",
      "* Judging will occur next week May 14th, 2013\n",
      "* There will be a first and second place for best accuracy\n",
      "* A prize will be made for unique solutions"
     ]
    },
    {
     "cell_type": "heading",
     "level": 1,
     "metadata": {},
     "source": [
      "Further Details"
     ]
    },
    {
     "cell_type": "raw",
     "metadata": {},
     "source": [
      "I am available for tutoring and consultation\n",
      "\n",
      "rob@zinkov.com"
     ]
    }
   ],
   "metadata": {}
  }
 ]
}